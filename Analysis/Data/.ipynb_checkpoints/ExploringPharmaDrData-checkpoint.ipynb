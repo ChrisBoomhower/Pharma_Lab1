{
 "cells": [
  {
   "cell_type": "code",
   "execution_count": 1,
   "metadata": {
    "collapsed": false
   },
   "outputs": [],
   "source": [
    "import json\n",
    "import pandas as pd"
   ]
  },
  {
   "cell_type": "code",
   "execution_count": 76,
   "metadata": {
    "collapsed": false
   },
   "outputs": [
    {
     "data": {
      "text/plain": [
       "dict_items([('cms_prescription_counts', {'HYDROCODONE-ACETAMINOPHEN': 28, 'AMOXICILLIN': 52, 'CEPHALEXIN': 23}), ('provider_variables', {'region': 'South', 'generic_rx_count': 103, 'specialty': 'General Practice', 'settlement_type': 'non-urban', 'brand_name_rx_count': 0, 'years_practicing': 7, 'gender': 'M'}), ('npi', '1992715205')])"
      ]
     },
     "execution_count": 76,
     "metadata": {},
     "output_type": "execute_result"
    }
   ],
   "source": [
    "d = []\n",
    "with open('roam_prescription_based_prediction1.jsonl') as json_data:\n",
    "    for line in json_data:\n",
    "        d.append(json.loads(line))\n",
    "d[1]"
   ]
  },
  {
   "cell_type": "code",
   "execution_count": 103,
   "metadata": {
    "collapsed": false
   },
   "outputs": [
    {
     "name": "stdout",
     "output_type": "stream",
     "text": [
      "dict_keys(['cms_prescription_counts', 'provider_variables', 'npi'])\n",
      "dict_values([{'HYDROCODONE-ACETAMINOPHEN': 28, 'AMOXICILLIN': 52, 'CEPHALEXIN': 23}, {'region': 'South', 'generic_rx_count': 103, 'specialty': 'General Practice', 'settlement_type': 'non-urban', 'brand_name_rx_count': 0, 'years_practicing': 7, 'gender': 'M'}, '1992715205']) \n",
      "\n",
      "{'HYDROCODONE-ACETAMINOPHEN': 28, 'AMOXICILLIN': 52, 'CEPHALEXIN': 23}\n",
      "<class 'dict'>\n",
      "HYDROCODONE-ACETAMINOPHEN 28\n",
      "AMOXICILLIN 52\n",
      "CEPHALEXIN 23\n"
     ]
    },
    {
     "data": {
      "text/plain": [
       "AMOXICILLIN                  52\n",
       "CEPHALEXIN                   23\n",
       "HYDROCODONE-ACETAMINOPHEN    28\n",
       "dtype: int64"
      ]
     },
     "execution_count": 103,
     "metadata": {},
     "output_type": "execute_result"
    }
   ],
   "source": [
    "d[1]\n",
    "print(d[1].keys())\n",
    "print(d[1].values(),\"\\n\")\n",
    "for key, value in d[1].items():\n",
    "    if 'npi' not in key and 'provider_variables' not in key:\n",
    "        print(value)\n",
    "        print(type(value))\n",
    "        #df = pd.DataFrame.from_dict(value)\n",
    "        s = pd.Series(value)\n",
    "        df = s.to_frame().T\n",
    "        #df = pd.DataFrame(value)\n",
    "        for key_base, value_base in value.items():\n",
    "            print(key_base, value_base)\n",
    "s"
   ]
  },
  {
   "cell_type": "code",
   "execution_count": 104,
   "metadata": {
    "collapsed": false
   },
   "outputs": [
    {
     "data": {
      "text/html": [
       "<div>\n",
       "<table border=\"1\" class=\"dataframe\">\n",
       "  <thead>\n",
       "    <tr style=\"text-align: right;\">\n",
       "      <th></th>\n",
       "      <th>AMOXICILLIN</th>\n",
       "      <th>CEPHALEXIN</th>\n",
       "      <th>HYDROCODONE-ACETAMINOPHEN</th>\n",
       "    </tr>\n",
       "  </thead>\n",
       "  <tbody>\n",
       "    <tr>\n",
       "      <th>0</th>\n",
       "      <td>52</td>\n",
       "      <td>23</td>\n",
       "      <td>28</td>\n",
       "    </tr>\n",
       "  </tbody>\n",
       "</table>\n",
       "</div>"
      ],
      "text/plain": [
       "   AMOXICILLIN  CEPHALEXIN  HYDROCODONE-ACETAMINOPHEN\n",
       "0           52          23                         28"
      ]
     },
     "execution_count": 104,
     "metadata": {},
     "output_type": "execute_result"
    }
   ],
   "source": [
    "df"
   ]
  },
  {
   "cell_type": "code",
   "execution_count": 6,
   "metadata": {
    "collapsed": false
   },
   "outputs": [],
   "source": [
    "df = pd.DataFrame(d)"
   ]
  },
  {
   "cell_type": "code",
   "execution_count": 7,
   "metadata": {
    "collapsed": false
   },
   "outputs": [
    {
     "data": {
      "text/html": [
       "<div>\n",
       "<table border=\"1\" class=\"dataframe\">\n",
       "  <thead>\n",
       "    <tr style=\"text-align: right;\">\n",
       "      <th></th>\n",
       "      <th>cms_prescription_counts</th>\n",
       "      <th>npi</th>\n",
       "      <th>provider_variables</th>\n",
       "    </tr>\n",
       "  </thead>\n",
       "  <tbody>\n",
       "    <tr>\n",
       "      <th>0</th>\n",
       "      <td>{'NOVOLOG': 12, 'IRBESARTAN': 11, 'SPIRONOLACT...</td>\n",
       "      <td>1295763035</td>\n",
       "      <td>{'region': 'South', 'generic_rx_count': 2287, ...</td>\n",
       "    </tr>\n",
       "    <tr>\n",
       "      <th>1</th>\n",
       "      <td>{'HYDROCODONE-ACETAMINOPHEN': 28, 'AMOXICILLIN...</td>\n",
       "      <td>1992715205</td>\n",
       "      <td>{'region': 'South', 'generic_rx_count': 103, '...</td>\n",
       "    </tr>\n",
       "    <tr>\n",
       "      <th>2</th>\n",
       "      <td>{'AMOXICILLIN': 73, 'CEPHALEXIN': 28, 'CLINDAM...</td>\n",
       "      <td>1578587630</td>\n",
       "      <td>{'region': 'Midwest', 'generic_rx_count': 112,...</td>\n",
       "    </tr>\n",
       "    <tr>\n",
       "      <th>3</th>\n",
       "      <td>{'AMOXICILLIN': 63}</td>\n",
       "      <td>1932278405</td>\n",
       "      <td>{'region': 'South', 'generic_rx_count': 63, 's...</td>\n",
       "    </tr>\n",
       "    <tr>\n",
       "      <th>4</th>\n",
       "      <td>{'WARFARIN SODIUM': 14, 'AMOXICILLIN': 12, 'LI...</td>\n",
       "      <td>1437366804</td>\n",
       "      <td>{'region': 'West', 'generic_rx_count': 1035, '...</td>\n",
       "    </tr>\n",
       "  </tbody>\n",
       "</table>\n",
       "</div>"
      ],
      "text/plain": [
       "                             cms_prescription_counts         npi  \\\n",
       "0  {'NOVOLOG': 12, 'IRBESARTAN': 11, 'SPIRONOLACT...  1295763035   \n",
       "1  {'HYDROCODONE-ACETAMINOPHEN': 28, 'AMOXICILLIN...  1992715205   \n",
       "2  {'AMOXICILLIN': 73, 'CEPHALEXIN': 28, 'CLINDAM...  1578587630   \n",
       "3                                {'AMOXICILLIN': 63}  1932278405   \n",
       "4  {'WARFARIN SODIUM': 14, 'AMOXICILLIN': 12, 'LI...  1437366804   \n",
       "\n",
       "                                  provider_variables  \n",
       "0  {'region': 'South', 'generic_rx_count': 2287, ...  \n",
       "1  {'region': 'South', 'generic_rx_count': 103, '...  \n",
       "2  {'region': 'Midwest', 'generic_rx_count': 112,...  \n",
       "3  {'region': 'South', 'generic_rx_count': 63, 's...  \n",
       "4  {'region': 'West', 'generic_rx_count': 1035, '...  "
      ]
     },
     "execution_count": 7,
     "metadata": {},
     "output_type": "execute_result"
    }
   ],
   "source": [
    "df.head()"
   ]
  },
  {
   "cell_type": "code",
   "execution_count": null,
   "metadata": {
    "collapsed": true
   },
   "outputs": [],
   "source": []
  }
 ],
 "metadata": {
  "anaconda-cloud": {},
  "kernelspec": {
   "display_name": "Python [conda env:Py3]",
   "language": "python",
   "name": "conda-env-Py3-py"
  },
  "language_info": {
   "codemirror_mode": {
    "name": "ipython",
    "version": 3
   },
   "file_extension": ".py",
   "mimetype": "text/x-python",
   "name": "python",
   "nbconvert_exporter": "python",
   "pygments_lexer": "ipython3",
   "version": "3.5.2"
  }
 },
 "nbformat": 4,
 "nbformat_minor": 2
}
